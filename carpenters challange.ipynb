{
 "cells": [
  {
   "cell_type": "markdown",
   "metadata": {},
   "source": [
    "# The Carpenter's Challenge :\n",
    "\n",
    "As little kids and grown ups, we have often toyed around with pieces of wood, and almost everyone may have at least once tried making something out of those.\n",
    "\n",
    "Imagine that there are n pieces of wood, each piece of wood has three dimensions: x (length), y( breadth) and z (height). A carpenter wishes to create 'm' boxes out of these n pieces such that wastage of wood is minimum. The dimensions of these 'm' boxes are p,q and r respectively and can be different for each box so as to minimize wastage.\n",
    "\n",
    "Your challenge is to provide a Python program which when executed:\n",
    "\n",
    "- Allows recording different pieces of wood and the dimensions of each piece of wood\n",
    "- Allows recording of 'm' - the number of boxes required, while allowing 'm' input to be optional as well\n",
    "- Allows recording of some or all of dimensions of the 'm' boxes if there is a specific requirement for sizes. If only few dimensions are specified, the program is free to calculate the dimensions of remaining boxes for wastage reduction\n",
    "- Provides optimized dimensions p,q and r and indicates wastage per box, and total minimized wastage\n",
    "- Since more waste wood may be available, the program may even predict addition of what new sizes x, y and z (of additional waste wood) can produce even better boxes for further wastage reduction. The program may help indicate whether one or two or more additional pieces of wood of specified dimensions can help reduce wastage further"
   ]
  },
  {
   "cell_type": "code",
   "execution_count": 8,
   "metadata": {},
   "outputs": [
    {
     "name": "stdout",
     "output_type": "stream",
     "text": [
      "Enter No. of Wooden Pieces : 90\n",
      "Enter length of wooden piece : 4\n",
      "Enter breadth of wooden piece : 5\n",
      "Enter height of wooden piece : 6\n",
      "Enter number of boxes that are to be made from n number of wooden pieces : 45\n",
      "Enter choice for dimensions of wooden box : 'm'-manually or 'd'-by default '1' : d\n",
      "Total number of boxes : 10800\n",
      "Leftover amount of wood : 0\n",
      "Additional boxes to be formed are : 10755\n"
     ]
    }
   ],
   "source": [
    "n=int(input('Enter No. of Wooden Pieces : '))\n",
    "x=int(input('Enter length of wooden piece : '))\n",
    "y=int(input('Enter breadth of wooden piece : '))\n",
    "z=int(input('Enter height of wooden piece : '))\n",
    "\n",
    "\n",
    "m=int(input('Enter number of boxes that are to be made from n number of wooden pieces : '))\n",
    "\n",
    "\n",
    "choice=input(\"Enter choice for dimensions of wooden box : 'm'-manually or 'd'-by default '1' : \")\n",
    "if(choice=='m'):\n",
    "    p=int(input('Enter length of wooden box you want : '))\n",
    "    q=int(input('Enter breadth of wooden box you want : '))\n",
    "    r=int(input('Enter height of wooden box you want : '))\n",
    "else:\n",
    "    p=1\n",
    "    q=1\n",
    "    r=1\n",
    "\n",
    "if(p>x or q>y or r>z):\n",
    "    print('No boxes can be formed !')\n",
    "    \n",
    "else:\n",
    "    total_vol = n*(x * y * z)         \n",
    "    required_vol=p*q*r                      \n",
    "    total_boxes=total_vol//required_vol     \n",
    "    leftover_wood=total_vol%required_vol    \n",
    "    print('Total number of boxes : ',end=\"\")\n",
    "    print(total_boxes)\n",
    "    print('Leftover amount of wood : ',end=\"\")\n",
    "    print(leftover_wood)\n",
    "    if(total_boxes>m):\n",
    "        additional_boxes=total_boxes-m   \n",
    "        print('Additional boxes to be formed are : ',end=\"\")\n",
    "        print(additional_boxes)\n",
    "       \n"
   ]
  }
 ],
 "metadata": {
  "kernelspec": {
   "display_name": "Python 3",
   "language": "python",
   "name": "python3"
  },
  "language_info": {
   "codemirror_mode": {
    "name": "ipython",
    "version": 3
   },
   "file_extension": ".py",
   "mimetype": "text/x-python",
   "name": "python",
   "nbconvert_exporter": "python",
   "pygments_lexer": "ipython3",
   "version": "3.7.3"
  }
 },
 "nbformat": 4,
 "nbformat_minor": 2
}
